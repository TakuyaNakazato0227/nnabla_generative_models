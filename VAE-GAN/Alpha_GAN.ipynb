{
 "cells": [
  {
   "cell_type": "code",
   "execution_count": null,
   "metadata": {},
   "outputs": [],
   "source": [
    "import nnabla as nn\n",
    "\n",
    "import nnabla.functions as F\n",
    "import nnabla.parametric_functions as PF\n",
    "import nnabla.solvers as S\n",
    "from nnabla.monitor import tile_images\n",
    "\n",
    "import numpy as np\n",
    "import matplotlib.pyplot as plt\n",
    "import matplotlib.gridspec as gridspec\n",
    "\n",
    "%matplotlib inline\n",
    "\n",
    "from tensorflow.examples.tutorials.mnist import input_data"
   ]
  },
  {
   "cell_type": "code",
   "execution_count": null,
   "metadata": {},
   "outputs": [],
   "source": [
    "mnist = input_data.read_data_sets('../../MNIST_data', one_hot=True)\n",
    "mb_size = 64\n",
    "Z_dim = 100\n",
    "X_dim = mnist.train.images.shape[1]\n",
    "y_dim = mnist.train.labels.shape[1]\n",
    "h_dim = 128\n",
    "lr = 1e-4\n",
    "\n",
    "lamb = 3 "
   ]
  },
  {
   "cell_type": "code",
   "execution_count": null,
   "metadata": {
    "collapsed": true
   },
   "outputs": [],
   "source": [
    "# Encoder q(z|X)\n",
    "def Q(X, hidden=[128, 128]):\n",
    "    hs = []\n",
    "    with nn.parameter_scope(\"Q\"):  # Parameter scope can be nested\n",
    "        h = X\n",
    "        for hid, hsize in enumerate(hidden):\n",
    "            with nn.parameter_scope(\"affine{}\".format(hid + 1)):\n",
    "                h = F.relu(PF.affine(h, hsize))\n",
    "                hs.append(h)\n",
    "        with nn.parameter_scope(\"last_affine\"):\n",
    "            z = PF.affine(h, Z_dim)\n",
    "    return z"
   ]
  },
  {
   "cell_type": "code",
   "execution_count": null,
   "metadata": {
    "collapsed": true
   },
   "outputs": [],
   "source": [
    "# Decoder p(X|z)\n",
    "def P(z, hidden=[128, 128]):\n",
    "    h = z\n",
    "    hs = []\n",
    "    with nn.parameter_scope(\"P\"):  # Parameter scope can be nested\n",
    "        for hid, hsize in enumerate(hidden):\n",
    "            with nn.parameter_scope(\"affine{}\".format(hid + 1)):\n",
    "                h = F.relu(PF.affine(h, hsize))\n",
    "                hs.append(h)\n",
    "        with nn.parameter_scope(\"sigmoid_layer\"):\n",
    "            X = F.sigmoid(PF.affine(h, X_dim))\n",
    "    return X"
   ]
  },
  {
   "cell_type": "code",
   "execution_count": null,
   "metadata": {},
   "outputs": [],
   "source": [
    "# Discriminator of X\n",
    "def D(X, hidden=[128, 128]):\n",
    "    h = X\n",
    "    hs = []\n",
    "    with nn.parameter_scope(\"D\"):  # Parameter scope can be nested\n",
    "        for hid, hsize in enumerate(hidden):\n",
    "            with nn.parameter_scope(\"affine{}\".format(hid + 1)):\n",
    "                h = F.relu(PF.affine(h, hsize))\n",
    "                hs.append(h)\n",
    "        with nn.parameter_scope(\"classifier\"):\n",
    "            y = F.sigmoid(PF.affine(h, 1))\n",
    "    return y"
   ]
  },
  {
   "cell_type": "code",
   "execution_count": null,
   "metadata": {
    "collapsed": true
   },
   "outputs": [],
   "source": [
    "# Discriminator of z\n",
    "def C(z, hidden=[128, 128]):\n",
    "    h = z\n",
    "    hs = []\n",
    "    with nn.parameter_scope(\"C\"):\n",
    "        for hid, hsize in enumerate(hidden):\n",
    "            with nn.parameter_scope(\"affine{}\".format(hid + 1)):\n",
    "                h = F.relu(PF.affine(h, hsize))\n",
    "                hs.append(h)\n",
    "        with nn.parameter_scope(\"classifier\"):\n",
    "            y = F.sigmoid(PF.affine(h, 1))\n",
    "    return y"
   ]
  },
  {
   "cell_type": "code",
   "execution_count": null,
   "metadata": {
    "collapsed": true
   },
   "outputs": [],
   "source": [
    "Q_solver = S.Adam(lr)\n",
    "with nn.parameter_scope(\"Q\"):\n",
    "    Q_solver.set_parameters(nn.get_parameters())\n",
    "    \n",
    "P_solver = S.Adam(lr)\n",
    "with nn.parameter_scope(\"P\"):\n",
    "    P_solver.set_parameters(nn.get_parameters())\n",
    "    \n",
    "D_solver = S.Adam(lr)\n",
    "with nn.parameter_scope(\"D\"):\n",
    "    D_solver.set_parameters(nn.get_parameters())\n",
    "    \n",
    "C_solver = S.Adam(lr)\n",
    "with nn.parameter_scope(\"C\"):\n",
    "    C_solver.set_parameters(nn.get_parameters())"
   ]
  },
  {
   "cell_type": "code",
   "execution_count": null,
   "metadata": {
    "collapsed": true
   },
   "outputs": [],
   "source": [
    "def reset_grad():\n",
    "    Q_solver.zero_grad()\n",
    "    P_solver.zero_grad()\n",
    "    D_solver.zero_grad()\n",
    "    C_solver.zero_grad()"
   ]
  },
  {
   "cell_type": "code",
   "execution_count": null,
   "metadata": {
    "collapsed": true
   },
   "outputs": [],
   "source": [
    "def sample_X(size, include_y=False):\n",
    "    X, y = mnist.train.next_batch(size)\n",
    "    X = nn.Variable.from_numpy_array(X)\n",
    "    \n",
    "    if include_y:\n",
    "        y = np.argmax(y, axis=1).astype(np.int)\n",
    "        y = nn.Variable.from_numpy_array(y)\n",
    "        return X, y\n",
    "    \n",
    "    return X"
   ]
  },
  {
   "cell_type": "code",
   "execution_count": null,
   "metadata": {
    "collapsed": true
   },
   "outputs": [],
   "source": [
    "def show16(samples):\n",
    "    fig = plt.figure(figsize=(4, 4))\n",
    "    gs = gridspec.GridSpec(4, 4)\n",
    "    gs.update(wspace=0.05, hspace=0.05)\n",
    "\n",
    "    for i, sample in enumerate(samples):\n",
    "        ax = plt.subplot(gs[i])\n",
    "        plt.axis('off')\n",
    "        ax.set_xticklabels([])\n",
    "        ax.set_yticklabels([])\n",
    "        ax.set_aspect('equal')\n",
    "        plt.imshow(sample.reshape(28, 28), cmap='Greys_r')\n",
    "\n",
    "    plt.show()"
   ]
  },
  {
   "cell_type": "code",
   "execution_count": null,
   "metadata": {
    "collapsed": true
   },
   "outputs": [],
   "source": [
    "def L1_loss(X0, X1):\n",
    "    element_wise_L1 = F.abs(X0 - X1)\n",
    "    batch_wise_L1 = F.sum(element_wise_L1, axis=1, keepdims=True)\n",
    "    return batch_wise_L1"
   ]
  },
  {
   "cell_type": "code",
   "execution_count": null,
   "metadata": {},
   "outputs": [],
   "source": [
    "for it in range(1000000):\n",
    "    # Q (Encoder) Update\n",
    "    X = sample_X(mb_size)\n",
    "    z_sample = Q(X)\n",
    "    X_recon = P(z_sample)\n",
    "    C_fake = C(z_sample)\n",
    "    \n",
    "    Q_loss = F.mean(lamb * L1_loss(X_recon, X) - F.log(C_fake + 1e-8))\n",
    "    \n",
    "    Q_loss.forward()\n",
    "    Q_loss.backward()\n",
    "    Q_solver.update()\n",
    "    reset_grad()\n",
    "    \n",
    "    # P (Decoder) Update\n",
    "    X = sample_X(mb_size)\n",
    "    z_sample = Q(X)\n",
    "    X_recon = P(z_sample)\n",
    "    z = nn.Variable.from_numpy_array(np.random.randn(mb_size, Z_dim))\n",
    "    X_sample = P(z)\n",
    "    \n",
    "    D_recon = D(X_recon)\n",
    "    D_sample = D(X_sample)\n",
    "    \n",
    "    P_loss = F.mean(lamb * L1_loss(X_recon, X) - F.log(D_recon + 1e-8) - F.log(D_sample + 1e-8))\n",
    "    \n",
    "    P_loss.forward()\n",
    "    P_loss.backward()\n",
    "    P_solver.update()\n",
    "    reset_grad()\n",
    "    \n",
    "    # D (Discriminator of X) Update\n",
    "    X = sample_X(mb_size)\n",
    "    z_sample = Q(X)\n",
    "    X_recon = P(z_sample)\n",
    "    z = nn.Variable.from_numpy_array(np.random.randn(mb_size, Z_dim))\n",
    "    X_sample = P(z)\n",
    "    \n",
    "    D_recon = D(X_recon)\n",
    "    D_sample = D(X_sample)\n",
    "    D_real = D(X)\n",
    "    \n",
    "    D_loss = F.mean(-F.log(D_real + 1e-8) - F.log(1 - D_recon + 1e-8) - F.log(1 - D_sample + 1e-8))\n",
    "\n",
    "    D_loss.forward()\n",
    "    D_loss.backward()\n",
    "    D_solver.update()\n",
    "    reset_grad()\n",
    "    \n",
    "    # Discriminator C\n",
    "    X = sample_X(mb_size)\n",
    "    z_fake = Q(X)\n",
    "    z_real = nn.Variable.from_numpy_array(np.random.randn(mb_size, Z_dim))\n",
    "    \n",
    "    C_real = C(z_real)\n",
    "    C_fake = C(z_fake)\n",
    "    \n",
    "    C_loss = F.mean(-F.log(C_fake + 1e-8) - F.log(1 - C_real + 1e-8))\n",
    "\n",
    "    C_loss.forward()\n",
    "    C_loss.backward()\n",
    "    C_solver.update()\n",
    "    reset_grad()\n",
    "    \n",
    "    # Generate and Show Samples \n",
    "    if it % 1000 == 0:\n",
    "        idx = np.random.randint(0, 10)\n",
    "        print('Step: {}, P_loss: {}, Q_loss: {}, D_loss: {}, C_loss: {}'.format(it, P_loss.d, Q_loss.d, D_loss.d, C_loss.d))\n",
    "        \n",
    "        samples = P(z_real).d[:16]\n",
    "\n",
    "        show16(samples)"
   ]
  }
 ],
 "metadata": {
  "kernelspec": {
   "display_name": "Python 2",
   "language": "python",
   "name": "python2"
  },
  "language_info": {
   "codemirror_mode": {
    "name": "ipython",
    "version": 2
   },
   "file_extension": ".py",
   "mimetype": "text/x-python",
   "name": "python",
   "nbconvert_exporter": "python",
   "pygments_lexer": "ipython2",
   "version": "2.7.13"
  }
 },
 "nbformat": 4,
 "nbformat_minor": 2
}
