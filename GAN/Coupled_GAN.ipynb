{
 "cells": [
  {
   "cell_type": "code",
   "execution_count": null,
   "metadata": {},
   "outputs": [],
   "source": [
    "import nnabla as nn\n",
    "\n",
    "import nnabla.functions as F\n",
    "import nnabla.parametric_functions as PF\n",
    "import nnabla.solvers as S\n",
    "from nnabla.monitor import tile_images\n",
    "\n",
    "import numpy as np\n",
    "import matplotlib.pyplot as plt\n",
    "import matplotlib.gridspec as gridspec\n",
    "\n",
    "%matplotlib inline\n",
    "\n",
    "import copy\n",
    "import scipy.ndimage.interpolation\n",
    "\n",
    "from tensorflow.examples.tutorials.mnist import input_data"
   ]
  },
  {
   "cell_type": "code",
   "execution_count": null,
   "metadata": {},
   "outputs": [],
   "source": [
    "mnist = input_data.read_data_sets('../../MNIST_data', one_hot=True)\n",
    "mb_size = 64\n",
    "Z_dim = 100\n",
    "X_dim = mnist.train.images.shape[1]\n",
    "y_dim = mnist.train.labels.shape[1]\n",
    "h_dim = 128\n",
    "lr = 1e-2"
   ]
  },
  {
   "cell_type": "code",
   "execution_count": null,
   "metadata": {
    "collapsed": true
   },
   "outputs": [],
   "source": [
    "def G_shared(z, hidden=[128]):\n",
    "    hs = []\n",
    "    with nn.parameter_scope(\"G_shared\"):  # Parameter scope can be nested\n",
    "        h = z\n",
    "        for hid, hsize in enumerate(hidden):\n",
    "            with nn.parameter_scope(\"affine{}\".format(hid + 1)):\n",
    "                h = F.relu(PF.affine(h, hsize))\n",
    "                hs.append(h)\n",
    "        with nn.parameter_scope(\"last\"):\n",
    "            H = F.relu(PF.affine(h, X_dim))\n",
    "    return H"
   ]
  },
  {
   "cell_type": "code",
   "execution_count": null,
   "metadata": {
    "collapsed": true
   },
   "outputs": [],
   "source": [
    "def G1(z, hidden=[128]):\n",
    "    h = G_shared(z)\n",
    "    hs = []\n",
    "    with nn.parameter_scope(\"G1\"):  # Parameter scope can be nested\n",
    "        for hid, hsize in enumerate(hidden):\n",
    "            with nn.parameter_scope(\"affine{}\".format(hid + 1)):\n",
    "                h = F.relu(PF.affine(h, hsize))\n",
    "                hs.append(h)\n",
    "        with nn.parameter_scope(\"sigmoid_layer\"):\n",
    "            X = F.sigmoid(PF.affine(h, X_dim))\n",
    "    return X"
   ]
  },
  {
   "cell_type": "code",
   "execution_count": null,
   "metadata": {
    "collapsed": true
   },
   "outputs": [],
   "source": [
    "def G2(z, hidden=[128]):\n",
    "    h = G_shared(z)\n",
    "    hs = []\n",
    "    with nn.parameter_scope(\"G2\"):  # Parameter scope can be nested\n",
    "        for hid, hsize in enumerate(hidden):\n",
    "            with nn.parameter_scope(\"affine{}\".format(hid + 1)):\n",
    "                h = F.relu(PF.affine(h, hsize))\n",
    "                hs.append(h)\n",
    "        with nn.parameter_scope(\"sigmoid_layer\"):\n",
    "            X = F.sigmoid(PF.affine(h, X_dim))\n",
    "    return X"
   ]
  },
  {
   "cell_type": "code",
   "execution_count": null,
   "metadata": {
    "collapsed": true
   },
   "outputs": [],
   "source": [
    "def D_shared(h, hidden=[128]):\n",
    "    hs = []\n",
    "    with nn.parameter_scope(\"D_shared\"):\n",
    "        for hid, hsize in enumerate(hidden):\n",
    "            with nn.parameter_scope(\"affine{}\".format(hid + 1)):\n",
    "                h = F.relu(PF.affine(h, hsize))\n",
    "                hs.append(h)\n",
    "        with nn.parameter_scope(\"classifier\"):\n",
    "            y = F.sigmoid(PF.affine(h, 1))\n",
    "    return y"
   ]
  },
  {
   "cell_type": "code",
   "execution_count": null,
   "metadata": {
    "collapsed": true
   },
   "outputs": [],
   "source": [
    "def D1(X, hidden=[128]):\n",
    "    hs = []\n",
    "    with nn.parameter_scope(\"D1\"):\n",
    "        h = X\n",
    "        for hid, hsize in enumerate(hidden):\n",
    "            with nn.parameter_scope(\"affine{}\".format(hid + 1)):\n",
    "                h = F.relu(PF.affine(h, hsize))\n",
    "                hs.append(h)\n",
    "        with nn.parameter_scope(\"last_layer\"):\n",
    "            h = F.relu(PF.affine(h, h_dim))\n",
    "    y = D_shared(h)\n",
    "    return y"
   ]
  },
  {
   "cell_type": "code",
   "execution_count": null,
   "metadata": {
    "collapsed": true
   },
   "outputs": [],
   "source": [
    "def D2(X, hidden=[128]):\n",
    "    hs = []\n",
    "    with nn.parameter_scope(\"D2\"):\n",
    "        h = X\n",
    "        for hid, hsize in enumerate(hidden):\n",
    "            with nn.parameter_scope(\"affine{}\".format(hid + 1)):\n",
    "                h = F.relu(PF.affine(h, hsize))\n",
    "                hs.append(h)\n",
    "        with nn.parameter_scope(\"last_layer\"):\n",
    "            h = F.relu(PF.affine(h, h_dim))\n",
    "    y = D_shared(h)\n",
    "    return y"
   ]
  },
  {
   "cell_type": "code",
   "execution_count": null,
   "metadata": {
    "collapsed": true
   },
   "outputs": [],
   "source": [
    "G_solver = S.Adam(lr)\n",
    "with nn.parameter_scope(\"G_shared\"), nn.parameter_scope(\"G1\"), nn.parameter_scope(\"G2\"):\n",
    "    G_solver.set_parameters(nn.get_parameters())\n",
    "    \n",
    "D_solver = S.Adam(lr)\n",
    "with nn.parameter_scope(\"D_shared\"), nn.parameter_scope(\"D1\"), nn.parameter_scope(\"D2\"):\n",
    "    D_solver.set_parameters(nn.get_parameters())"
   ]
  },
  {
   "cell_type": "code",
   "execution_count": null,
   "metadata": {
    "collapsed": true
   },
   "outputs": [],
   "source": [
    "def reset_grad():\n",
    "    G_solver.zero_grad()\n",
    "    D_solver.zero_grad()"
   ]
  },
  {
   "cell_type": "code",
   "execution_count": null,
   "metadata": {
    "collapsed": true
   },
   "outputs": [],
   "source": [
    "def sample_X(X, size):\n",
    "    start_idx = np.random.randint(0, X.shape[0]-size)\n",
    "    return nn.Variable.from_numpy_array(X[start_idx:start_idx+size])"
   ]
  },
  {
   "cell_type": "code",
   "execution_count": null,
   "metadata": {
    "collapsed": true
   },
   "outputs": [],
   "source": [
    "def show16(samples):\n",
    "    fig = plt.figure(figsize=(4, 4))\n",
    "    gs = gridspec.GridSpec(4, 4)\n",
    "    gs.update(wspace=0.05, hspace=0.05)\n",
    "\n",
    "    for i, sample in enumerate(samples):\n",
    "        ax = plt.subplot(gs[i])\n",
    "        plt.axis('off')\n",
    "        ax.set_xticklabels([])\n",
    "        ax.set_yticklabels([])\n",
    "        ax.set_aspect('equal')\n",
    "        plt.imshow(sample.reshape(28, 28), cmap='Greys_r')\n",
    "\n",
    "    plt.show()"
   ]
  },
  {
   "cell_type": "code",
   "execution_count": null,
   "metadata": {
    "collapsed": true
   },
   "outputs": [],
   "source": [
    "X_train = mnist.train.images\n",
    "half = int(X_train.shape[0] / 2)\n",
    "\n",
    "# Real image\n",
    "X_train1 = X_train[:half]\n",
    "# Rotated image\n",
    "X_train2 = X_train[half:].reshape(-1, 28, 28)\n",
    "X_train2 = scipy.ndimage.interpolation.rotate(X_train2, 90, axes=(1, 2))\n",
    "X_train2 = X_train2.reshape(-1, 28*28)\n",
    "\n",
    "# Cleanup\n",
    "del X_train"
   ]
  },
  {
   "cell_type": "code",
   "execution_count": null,
   "metadata": {},
   "outputs": [],
   "source": [
    "for it in range(1000000):\n",
    "    # Discriminator\n",
    "    z = nn.Variable.from_numpy_array(np.random.randn(mb_size, Z_dim))\n",
    "    X1 = sample_X(X_train1, mb_size)\n",
    "    X2 = sample_X(X_train2, mb_size)\n",
    "    \n",
    "    G1_sample = G1(z)\n",
    "    D1_real = D1(X1)\n",
    "    D1_fake = D1(G1_sample)\n",
    "    \n",
    "    G2_sample = G2(z)\n",
    "    D2_real = D2(X2)\n",
    "    D2_fake = D2(G1_sample)\n",
    "\n",
    "    D1_loss = F.mean(-F.log(D1_real + 1e-8) - F.log(1. - D1_fake + 1e-8))\n",
    "    D2_loss = F.mean(-F.log(D2_real + 1e-8) - F.log(1. - D2_fake + 1e-8))\n",
    "    D_loss = D1_loss + D2_loss\n",
    "    \n",
    "    D_loss.forward()\n",
    "    D_loss.backward()\n",
    "    D_solver.update()\n",
    "    \n",
    "    reset_grad()\n",
    "\n",
    "    # Generator Update\n",
    "    G1_sample = G1(z)\n",
    "    D1_fake = D1(G1_sample)\n",
    "\n",
    "    G2_sample = G2(z)\n",
    "    D2_fake = D2(G2_sample)\n",
    "    \n",
    "    G1_loss = F.mean(-F.log(D1_fake + 1e-8))\n",
    "    G2_loss = F.mean(-F.log(D2_fake + 1e-8))\n",
    "    G_loss = G1_loss + G2_loss\n",
    "\n",
    "    G_loss.forward()\n",
    "    G_loss.backward()\n",
    "    G_solver.update()\n",
    "\n",
    "    reset_grad()\n",
    "\n",
    "    \n",
    "    # Generate and Show Samples \n",
    "    if it % 1000 == 0:\n",
    "        idx = np.random.randint(0, 10)\n",
    "        print('Step: {}, D1_loss: {}, G1_loss: {}, D2_loss: {}, G2_loss: {}'.format(it, D1_loss.d, G1_loss.d, D2_loss.d, G2_loss.d))\n",
    "#         print('Step: {}, D_loss: {}, G_loss: {}'.format(it, D_loss.d, G_loss.d))\n",
    "        \n",
    "        z = nn.Variable.from_numpy_array(np.random.randn(8, Z_dim))\n",
    "        samples1 = G1(z).d\n",
    "        samples2 = G2(z).d\n",
    "        samples = np.vstack([samples1, samples2])\n",
    "\n",
    "        show16(samples)"
   ]
  }
 ],
 "metadata": {
  "kernelspec": {
   "display_name": "Python 2",
   "language": "python",
   "name": "python2"
  },
  "language_info": {
   "codemirror_mode": {
    "name": "ipython",
    "version": 2
   },
   "file_extension": ".py",
   "mimetype": "text/x-python",
   "name": "python",
   "nbconvert_exporter": "python",
   "pygments_lexer": "ipython2",
   "version": "2.7.13"
  }
 },
 "nbformat": 4,
 "nbformat_minor": 2
}
