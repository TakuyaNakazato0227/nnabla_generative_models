{
 "cells": [
  {
   "cell_type": "code",
   "execution_count": null,
   "metadata": {},
   "outputs": [],
   "source": [
    "import nnabla as nn\n",
    "\n",
    "import nnabla.functions as F\n",
    "import nnabla.parametric_functions as PF\n",
    "import nnabla.solvers as S\n",
    "from nnabla.monitor import tile_images\n",
    "\n",
    "import numpy as np\n",
    "import matplotlib.pyplot as plt\n",
    "import matplotlib.gridspec as gridspec\n",
    "\n",
    "%matplotlib inline\n",
    "\n",
    "from tensorflow.examples.tutorials.mnist import input_data"
   ]
  },
  {
   "cell_type": "code",
   "execution_count": null,
   "metadata": {},
   "outputs": [],
   "source": [
    "mnist = input_data.read_data_sets('../../MNIST_data', one_hot=True)\n",
    "mb_size = 64\n",
    "Z_dim = 100\n",
    "X_dim = mnist.train.images.shape[1]\n",
    "y_dim = mnist.train.labels.shape[1]\n",
    "h_dim = 128\n",
    "lr = 1e-1"
   ]
  },
  {
   "cell_type": "code",
   "execution_count": null,
   "metadata": {
    "collapsed": true
   },
   "outputs": [],
   "source": [
    "def G(z, c,  hidden=[128]):\n",
    "    hs = []\n",
    "    with nn.parameter_scope(\"G\"):  # Parameter scope can be nested\n",
    "        h = F.concatenate(z, c)\n",
    "        for hid, hsize in enumerate(hidden):\n",
    "            with nn.parameter_scope(\"affine{}\".format(hid + 1)):\n",
    "                h = F.relu(PF.affine(h, hsize))\n",
    "                hs.append(h)\n",
    "        with nn.parameter_scope(\"sigmoid_layer\"):\n",
    "            X = F.sigmoid(PF.affine(h, X_dim))\n",
    "    return X"
   ]
  },
  {
   "cell_type": "code",
   "execution_count": null,
   "metadata": {
    "collapsed": true
   },
   "outputs": [],
   "source": [
    "def D(X, hidden=[128]):\n",
    "    hs = []\n",
    "    with nn.parameter_scope(\"D\"):\n",
    "        h = X\n",
    "        for hid, hsize in enumerate(hidden):\n",
    "            with nn.parameter_scope(\"affine{}\".format(hid + 1)):\n",
    "                h = F.relu(PF.affine(h, hsize))\n",
    "                hs.append(h)\n",
    "                \n",
    "        with nn.parameter_scope(\"D_GAN\"):\n",
    "            y_GAN = F.sigmoid(PF.affine(h, 1)) \n",
    "            \n",
    "        with nn.parameter_scope(\"D_AUX\"):\n",
    "            y_AUX = F.softmax(PF.affine(h, y_dim))\n",
    "            \n",
    "    return y_GAN, y_AUX"
   ]
  },
  {
   "cell_type": "code",
   "execution_count": null,
   "metadata": {
    "collapsed": true
   },
   "outputs": [],
   "source": [
    "G_solver = S.Adam(lr)\n",
    "with nn.parameter_scope(\"G\"):\n",
    "    G_solver.set_parameters(nn.get_parameters())\n",
    "    \n",
    "D_solver = S.Adam(lr)\n",
    "with nn.parameter_scope(\"D\"):\n",
    "    D_solver.set_parameters(nn.get_parameters())"
   ]
  },
  {
   "cell_type": "code",
   "execution_count": null,
   "metadata": {
    "collapsed": true
   },
   "outputs": [],
   "source": [
    "def reset_grad():\n",
    "    G_solver.zero_grad()\n",
    "    D_solver.zero_grad()"
   ]
  },
  {
   "cell_type": "code",
   "execution_count": null,
   "metadata": {
    "collapsed": true
   },
   "outputs": [],
   "source": [
    "def show16(samples):\n",
    "    fig = plt.figure(figsize=(4, 4))\n",
    "    gs = gridspec.GridSpec(4, 4)\n",
    "    gs.update(wspace=0.05, hspace=0.05)\n",
    "\n",
    "    for i, sample in enumerate(samples):\n",
    "        ax = plt.subplot(gs[i])\n",
    "        plt.axis('off')\n",
    "        ax.set_xticklabels([])\n",
    "        ax.set_yticklabels([])\n",
    "        ax.set_aspect('equal')\n",
    "        plt.imshow(sample.reshape(28, 28), cmap='Greys_r')\n",
    "\n",
    "    plt.show()"
   ]
  },
  {
   "cell_type": "code",
   "execution_count": null,
   "metadata": {},
   "outputs": [],
   "source": [
    "for it in range(1000000):\n",
    "    # Sample data\n",
    "    X, y = mnist.train.next_batch(mb_size)\n",
    "    X = nn.Variable.from_numpy_array(X)\n",
    "    c = nn.Variable.from_numpy_array(y.astype('float32'))\n",
    "    y_true = nn.Variable.from_numpy_array(y)\n",
    "    z = nn.Variable.from_numpy_array(np.random.randn(mb_size, Z_dim))\n",
    "\n",
    "    # Discriminator Update\n",
    "    G_sample = G(z, c)\n",
    "    D_real, C_real = D(X)\n",
    "    D_fake, C_fake = D(G_sample)\n",
    "    \n",
    "    D_loss = F.mean(F.log(D_real + 1e-8) + F.log(1 - D_fake + 1e-8), keepdims=1)\n",
    "    C_loss = -F.sigmoid_cross_entropy(C_real, y_true) - F.sigmoid_cross_entropy(C_fake, y_true)\n",
    "\n",
    "    # Maximize\n",
    "    DC_loss = -(D_loss + C_loss)\n",
    "    \n",
    "    DC_loss.forward()\n",
    "    DC_loss.backward()\n",
    "    D_solver.update()\n",
    "    \n",
    "    reset_grad()\n",
    "\n",
    "    # Generator Update\n",
    "    G_sample = G(z, c)\n",
    "    D_fake, C_fake = D(G_sample)\n",
    "    _, C_real = D(X)\n",
    "\n",
    "    G_loss = F.mean(F.log(D_fake + 1e-8), keepdims=1)\n",
    "    C_loss = -F.sigmoid_cross_entropy(C_real, y_true) - F.sigmoid_cross_entropy(C_fake, y_true)\n",
    "\n",
    "    # Maximize\n",
    "    GC_loss = -(G_loss + C_loss)\n",
    "\n",
    "    GC_loss.forward()\n",
    "    GC_loss.backward()\n",
    "    G_solver.update()\n",
    "\n",
    "    reset_grad()\n",
    "\n",
    "    \n",
    "    # Generate and Show Samples \n",
    "    if it % 1000 == 0:\n",
    "        idx = np.random.randint(0, 10)\n",
    "        print('Step: {}, D_loss: {}, G_loss: {}, Idx: {}'.format(it, -D_loss.d[0], -G_loss.d[0], idx))\n",
    "        \n",
    "        c = np.zeros([16, y_dim])\n",
    "        c[range(16), idx] = 1\n",
    "        c = nn.Variable.from_numpy_array(c.astype('float32'))\n",
    "\n",
    "        z = nn.Variable.from_numpy_array(np.random.randn(16, Z_dim))\n",
    "\n",
    "        samples = G(z, c).d\n",
    "\n",
    "        show16(samples)"
   ]
  }
 ],
 "metadata": {
  "kernelspec": {
   "display_name": "Python 2",
   "language": "python",
   "name": "python2"
  },
  "language_info": {
   "codemirror_mode": {
    "name": "ipython",
    "version": 2
   },
   "file_extension": ".py",
   "mimetype": "text/x-python",
   "name": "python",
   "nbconvert_exporter": "python",
   "pygments_lexer": "ipython2",
   "version": "2.7.13"
  }
 },
 "nbformat": 4,
 "nbformat_minor": 2
}
