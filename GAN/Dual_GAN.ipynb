{
 "cells": [
  {
   "cell_type": "code",
   "execution_count": null,
   "metadata": {},
   "outputs": [],
   "source": [
    "import nnabla as nn\n",
    "\n",
    "import nnabla.functions as F\n",
    "import nnabla.parametric_functions as PF\n",
    "import nnabla.solvers as S\n",
    "from nnabla.monitor import tile_images\n",
    "\n",
    "import numpy as np\n",
    "import matplotlib.pyplot as plt\n",
    "import matplotlib.gridspec as gridspec\n",
    "\n",
    "from itertools import chain\n",
    "import scipy.ndimage.interpolation\n",
    "\n",
    "%matplotlib inline\n",
    "\n",
    "from tensorflow.examples.tutorials.mnist import input_data"
   ]
  },
  {
   "cell_type": "code",
   "execution_count": null,
   "metadata": {},
   "outputs": [],
   "source": [
    "mnist = input_data.read_data_sets('../../MNIST_data', one_hot=True)\n",
    "mb_size = 64\n",
    "Z_dim = 100\n",
    "X_dim = mnist.train.images.shape[1]\n",
    "y_dim = mnist.train.labels.shape[1]\n",
    "lr = 1e-4\n",
    "\n",
    "n_critics = 3\n",
    "lam1, lam2 = 100, 100"
   ]
  },
  {
   "cell_type": "code",
   "execution_count": null,
   "metadata": {
    "collapsed": true
   },
   "outputs": [],
   "source": [
    "def G1(X, z, hidden=[128, 128]):\n",
    "    hs = []\n",
    "    with nn.parameter_scope(\"G1\"):  # Parameter scope can be nested\n",
    "        h = F.concatenate(X, z)\n",
    "        for hid, hsize in enumerate(hidden):\n",
    "            with nn.parameter_scope(\"affine{}\".format(hid + 1)):\n",
    "                h = F.relu(PF.affine(h, hsize))\n",
    "                hs.append(h)\n",
    "        with nn.parameter_scope(\"last_layer\"):\n",
    "            X = F.sigmoid(PF.affine(h, X_dim))\n",
    "    return X"
   ]
  },
  {
   "cell_type": "code",
   "execution_count": null,
   "metadata": {
    "collapsed": true
   },
   "outputs": [],
   "source": [
    "def G2(X, z, hidden=[128, 128]):\n",
    "    hs = []\n",
    "    with nn.parameter_scope(\"G2\"):  # Parameter scope can be nested\n",
    "        h = F.concatenate(X, z)\n",
    "        for hid, hsize in enumerate(hidden):\n",
    "            with nn.parameter_scope(\"affine{}\".format(hid + 1)):\n",
    "                h = F.relu(PF.affine(h, hsize))\n",
    "                hs.append(h)\n",
    "        with nn.parameter_scope(\"last_layer\"):\n",
    "            X = F.sigmoid(PF.affine(h, X_dim))\n",
    "    return X"
   ]
  },
  {
   "cell_type": "code",
   "execution_count": null,
   "metadata": {
    "collapsed": true
   },
   "outputs": [],
   "source": [
    "def D1(X, hidden=[128, 128]):\n",
    "    hs = []\n",
    "    with nn.parameter_scope(\"D1\"):  # Parameter scope can be nested\n",
    "        h = X\n",
    "        for hid, hsize in enumerate(hidden):\n",
    "            with nn.parameter_scope(\"affine{}\".format(hid + 1)):\n",
    "                h = F.relu(PF.affine(h, hsize))\n",
    "                hs.append(h)\n",
    "        with nn.parameter_scope(\"classifier\"):\n",
    "            y = PF.affine(h, 1)\n",
    "    return y"
   ]
  },
  {
   "cell_type": "code",
   "execution_count": null,
   "metadata": {
    "collapsed": true
   },
   "outputs": [],
   "source": [
    "def D2(X, hidden=[128, 128]):\n",
    "    hs = []\n",
    "    with nn.parameter_scope(\"D2\"):  # Parameter scope can be nested\n",
    "        h = X\n",
    "        for hid, hsize in enumerate(hidden):\n",
    "            with nn.parameter_scope(\"affine{}\".format(hid + 1)):\n",
    "                h = F.relu(PF.affine(h, hsize))\n",
    "                hs.append(h)\n",
    "        with nn.parameter_scope(\"classifier\"):\n",
    "            y = PF.affine(h, 1)\n",
    "    return y"
   ]
  },
  {
   "cell_type": "code",
   "execution_count": null,
   "metadata": {
    "collapsed": true
   },
   "outputs": [],
   "source": [
    "G_solver = S.RMSprop(lr)\n",
    "with nn.parameter_scope(\"G1\"), nn.parameter_scope(\"G2\"):\n",
    "    G_solver.set_parameters(nn.get_parameters())\n",
    "    \n",
    "D1_solver = S.RMSprop(lr)\n",
    "with nn.parameter_scope(\"D1\"):\n",
    "    D1_solver.set_parameters(nn.get_parameters())\n",
    "\n",
    "D2_solver = S.RMSprop(lr)\n",
    "with nn.parameter_scope(\"D2\"):\n",
    "    D2_solver.set_parameters(nn.get_parameters())"
   ]
  },
  {
   "cell_type": "code",
   "execution_count": null,
   "metadata": {
    "collapsed": true
   },
   "outputs": [],
   "source": [
    "def reset_grad():\n",
    "    G_solver.zero_grad()\n",
    "    D1_solver.zero_grad()\n",
    "    D2_solver.zero_grad()"
   ]
  },
  {
   "cell_type": "code",
   "execution_count": null,
   "metadata": {
    "collapsed": true
   },
   "outputs": [],
   "source": [
    "def show16(samples):\n",
    "    fig = plt.figure(figsize=(4, 4))\n",
    "    gs = gridspec.GridSpec(4, 4)\n",
    "    gs.update(wspace=0.05, hspace=0.05)\n",
    "\n",
    "    for i, sample in enumerate(samples):\n",
    "        ax = plt.subplot(gs[i])\n",
    "        plt.axis('off')\n",
    "        ax.set_xticklabels([])\n",
    "        ax.set_yticklabels([])\n",
    "        ax.set_aspect('equal')\n",
    "        plt.imshow(sample.reshape(28, 28), cmap='Greys_r')\n",
    "\n",
    "    plt.show()"
   ]
  },
  {
   "cell_type": "code",
   "execution_count": null,
   "metadata": {
    "collapsed": true
   },
   "outputs": [],
   "source": [
    "X_train = mnist.train.images\n",
    "half = int(X_train.shape[0] / 2)\n",
    "\n",
    "# Real image\n",
    "X_train1 = X_train[:half]\n",
    "# Rotated image\n",
    "X_train2 = X_train[half:].reshape(-1, 28, 28)\n",
    "X_train2 = scipy.ndimage.interpolation.rotate(X_train2, 90, axes=(1, 2))\n",
    "X_train2 = X_train2.reshape(-1, 28*28)\n",
    "\n",
    "# Cleanup\n",
    "del X_train"
   ]
  },
  {
   "cell_type": "code",
   "execution_count": null,
   "metadata": {
    "collapsed": true
   },
   "outputs": [],
   "source": [
    "def sample_X(X, size):\n",
    "    start_idx = np.random.randint(0, X.shape[0]-size)\n",
    "    return nn.Variable.from_numpy_array(X[start_idx:start_idx+size])"
   ]
  },
  {
   "cell_type": "code",
   "execution_count": null,
   "metadata": {},
   "outputs": [],
   "source": [
    "for it in range(1000000):\n",
    "    for _ in range(n_critics):\n",
    "        # Discriminator Update\n",
    "        z1 = nn.Variable.from_numpy_array(np.random.randn(mb_size, Z_dim))\n",
    "        z2 = nn.Variable.from_numpy_array(np.random.randn(mb_size, Z_dim))\n",
    "        X1 = sample_X(X_train1, mb_size)\n",
    "        X2 = sample_X(X_train1, mb_size)\n",
    "        \n",
    "        # D1\n",
    "        X2_sample = G1(X1, z1)  # G1: X1 -> X2\n",
    "        D1_real = D1(X2)\n",
    "        D1_fake = D1(X2_sample)\n",
    "\n",
    "        D1_loss = -(F.mean(D1_real, axis=1) - F.mean(D1_fake, axis=1))\n",
    "\n",
    "        D1_loss.forward()\n",
    "        D1_loss.backward()\n",
    "        D1_solver.update()\n",
    "        \n",
    "        reset_grad()\n",
    "        \n",
    "        # D1\n",
    "        X1_sample = G1(X2, z2)  # G1: X1 -> X2\n",
    "        D2_real = D2(X1)\n",
    "        D2_fake = D2(X1_sample)\n",
    "\n",
    "        D2_loss = -(F.mean(D2_real, axis=1) - F.mean(D2_fake, axis=1))\n",
    "\n",
    "        D2_loss.forward()\n",
    "        D2_loss.backward()\n",
    "        D2_solver.update()\n",
    "        \n",
    "        reset_grad()\n",
    "\n",
    "    # Generator Update\n",
    "    z1 = nn.Variable.from_numpy_array(np.random.randn(mb_size, Z_dim))\n",
    "    z2 = nn.Variable.from_numpy_array(np.random.randn(mb_size, Z_dim))\n",
    "    X1 = sample_X(X_train1, mb_size)\n",
    "    X2 = sample_X(X_train2, mb_size)\n",
    "    \n",
    "    X1_sample = G2(X2, z2)\n",
    "    X2_sample = G1(X1, z1)\n",
    "    \n",
    "    X1_recon = G2(X2, z2)\n",
    "    X2_recon = G1(X1, z1)\n",
    "\n",
    "    G_loss = - F.mean(D1_fake) - F.mean(D2_fake)\n",
    "    reg1 = lam1 * F.mean(F.sum(F.abs(X1_recon - X1), axis=1))\n",
    "    reg2 = lam2 * F.mean(F.sum(F.abs(X2_recon - X2), axis=1))\n",
    "    \n",
    "    G_loss += reg1 + reg2\n",
    "\n",
    "    G_loss.forward()\n",
    "    G_loss.backward()\n",
    "    G_solver.update()\n",
    "\n",
    "    reset_grad()\n",
    "    \n",
    "    # Generate and Show Samples \n",
    "    if it % 1000 == 0:\n",
    "        idx = np.random.randint(0, 10)\n",
    "        print('Step: {}, D_loss: {}, G_loss: {}'.format(it, D1_loss.d[0] + D2_loss.d[0], G_loss.d))\n",
    "        \n",
    "        real1 = X1.d[:4]\n",
    "        real2 = X2.d[:4]\n",
    "        samples1 = X1_sample.d[:4]\n",
    "        samples2 = X2_sample.d[:4]\n",
    "        samples = np.vstack([real2, samples1, real1, samples2])\n",
    "\n",
    "        show16(samples)"
   ]
  }
 ],
 "metadata": {
  "kernelspec": {
   "display_name": "Python 2",
   "language": "python",
   "name": "python2"
  },
  "language_info": {
   "codemirror_mode": {
    "name": "ipython",
    "version": 2
   },
   "file_extension": ".py",
   "mimetype": "text/x-python",
   "name": "python",
   "nbconvert_exporter": "python",
   "pygments_lexer": "ipython2",
   "version": "2.7.13"
  }
 },
 "nbformat": 4,
 "nbformat_minor": 2
}
