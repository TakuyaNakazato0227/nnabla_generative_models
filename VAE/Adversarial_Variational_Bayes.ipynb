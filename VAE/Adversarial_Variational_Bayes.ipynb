{
 "cells": [
  {
   "cell_type": "code",
   "execution_count": null,
   "metadata": {},
   "outputs": [],
   "source": [
    "import nnabla as nn\n",
    "\n",
    "import nnabla.functions as F\n",
    "import nnabla.parametric_functions as PF\n",
    "import nnabla.solvers as S\n",
    "from nnabla.monitor import tile_images\n",
    "\n",
    "import numpy as np\n",
    "import matplotlib.pyplot as plt\n",
    "import matplotlib.gridspec as gridspec\n",
    "\n",
    "%matplotlib inline\n",
    "\n",
    "from tensorflow.examples.tutorials.mnist import input_data"
   ]
  },
  {
   "cell_type": "code",
   "execution_count": null,
   "metadata": {},
   "outputs": [],
   "source": [
    "mnist = input_data.read_data_sets('../../MNIST_data', one_hot=True)\n",
    "mb_size = 64\n",
    "Z_dim = 100\n",
    "eps_dim = 4\n",
    "X_dim = mnist.train.images.shape[1]\n",
    "y_dim = mnist.train.labels.shape[1]\n",
    "lr = 1e-3"
   ]
  },
  {
   "cell_type": "code",
   "execution_count": null,
   "metadata": {
    "collapsed": true
   },
   "outputs": [],
   "source": [
    "# Q(z|X, eps) Encoder\n",
    "def Q(X, eps, hidden=[128, 128]):\n",
    "    hs = []\n",
    "    with nn.parameter_scope(\"Q\"):  # Parameter scope can be nested\n",
    "        h = F.concatenate(X, eps)\n",
    "        for hid, hsize in enumerate(hidden):\n",
    "            with nn.parameter_scope(\"affine{}\".format(hid + 1)):\n",
    "                h = F.relu(PF.affine(h, hsize))\n",
    "                hs.append(h)\n",
    "        with nn.parameter_scope(\"last_layer\"):\n",
    "            z = PF.affine(h, Z_dim)\n",
    "    return z"
   ]
  },
  {
   "cell_type": "code",
   "execution_count": null,
   "metadata": {
    "collapsed": true
   },
   "outputs": [],
   "source": [
    "# P(X|z) Decoder\n",
    "def P(z, hidden=[128, 128]):\n",
    "    hs = []\n",
    "    with nn.parameter_scope(\"P\"):  # Parameter scope can be nested\n",
    "        h = z\n",
    "        for hid, hsize in enumerate(hidden):\n",
    "            with nn.parameter_scope(\"affine{}\".format(hid + 1)):\n",
    "                h = F.relu(PF.affine(h, hsize))\n",
    "                hs.append(h)\n",
    "        with nn.parameter_scope(\"last_layer\"):\n",
    "            X = F.sigmoid(PF.affine(h, X_dim))\n",
    "    return X"
   ]
  },
  {
   "cell_type": "code",
   "execution_count": null,
   "metadata": {
    "collapsed": true
   },
   "outputs": [],
   "source": [
    "# Discriminator\n",
    "def T(X, z, hidden=[128, 128]):\n",
    "    hs = []\n",
    "    with nn.parameter_scope(\"T\"):  # Parameter scope can be nested\n",
    "        h = z\n",
    "        for hid, hsize in enumerate(hidden):\n",
    "            with nn.parameter_scope(\"affine{}\".format(hid + 1)):\n",
    "                h = F.relu(PF.affine(h, hsize))\n",
    "                hs.append(h)\n",
    "        with nn.parameter_scope(\"classifier\"):\n",
    "            y = PF.affine(h, 1)\n",
    "    return y"
   ]
  },
  {
   "cell_type": "code",
   "execution_count": null,
   "metadata": {
    "collapsed": true
   },
   "outputs": [],
   "source": [
    "Q_solver = S.Adam(lr)\n",
    "with nn.parameter_scope(\"Q\"):\n",
    "    Q_solver.set_parameters(nn.get_parameters()) \n",
    "\n",
    "P_solver = S.Adam(lr)\n",
    "with nn.parameter_scope(\"P\"):\n",
    "    P_solver.set_parameters(nn.get_parameters())   \n",
    "\n",
    "T_solver = S.Adam(lr)\n",
    "with nn.parameter_scope(\"T\"):\n",
    "    T_solver.set_parameters(nn.get_parameters())"
   ]
  },
  {
   "cell_type": "code",
   "execution_count": null,
   "metadata": {
    "collapsed": true
   },
   "outputs": [],
   "source": [
    "def reset_grad():\n",
    "    Q_solver.zero_grad()\n",
    "    P_solver.zero_grad()\n",
    "    T_solver.zero_grad()"
   ]
  },
  {
   "cell_type": "code",
   "execution_count": null,
   "metadata": {
    "collapsed": true
   },
   "outputs": [],
   "source": [
    "def sample_X(size, include_y=False):\n",
    "    X, y = mnist.train.next_batch(size)\n",
    "    X = nn.Variable.from_numpy_array(X)\n",
    "\n",
    "    if include_y:\n",
    "        y = np.argmax(y, axis=1).astype(np.int)\n",
    "        y = nn.Variable.from_numpy_array(y)\n",
    "        return X, y\n",
    "\n",
    "    return X"
   ]
  },
  {
   "cell_type": "code",
   "execution_count": null,
   "metadata": {
    "collapsed": true
   },
   "outputs": [],
   "source": [
    "def show16(samples):\n",
    "    fig = plt.figure(figsize=(4, 4))\n",
    "    gs = gridspec.GridSpec(4, 4)\n",
    "    gs.update(wspace=0.05, hspace=0.05)\n",
    "\n",
    "    for i, sample in enumerate(samples):\n",
    "        ax = plt.subplot(gs[i])\n",
    "        plt.axis('off')\n",
    "        ax.set_xticklabels([])\n",
    "        ax.set_yticklabels([])\n",
    "        ax.set_aspect('equal')\n",
    "        plt.imshow(sample.reshape(28, 28), cmap='Greys_r')\n",
    "\n",
    "    plt.show()"
   ]
  },
  {
   "cell_type": "code",
   "execution_count": null,
   "metadata": {},
   "outputs": [],
   "source": [
    "for it in range(100000):\n",
    "    X = sample_X(mb_size)\n",
    "    eps = nn.Variable.from_numpy_array(np.random.randn(mb_size, eps_dim))\n",
    "    z = nn.Variable.from_numpy_array(np.random.randn(mb_size, Z_dim))\n",
    "    \n",
    "    # Optimize VAE\n",
    "    z_sample = Q(X, eps)\n",
    "    X_sample = P(z_sample)\n",
    "    T_sample = T(X, z)\n",
    "\n",
    "    disc = F.mean(-T_sample)\n",
    "    loglike = - F.sum(F.binary_cross_entropy(X_sample, X) / mb_size)\n",
    "    \n",
    "    elbo = -(disc + loglike)\n",
    "    \n",
    "    elbo.forward()\n",
    "    Q_solver.update()\n",
    "    P_solver.update()\n",
    "    reset_grad()\n",
    "    \n",
    "    \n",
    "    # Discriminator T Update\n",
    "    z_sample = Q(X, eps)\n",
    "    T_q = F.sigmoid(T(X, z_sample))\n",
    "    T_prior = F.sigmoid(T(X, z))\n",
    "    \n",
    "    T_loss = - F.mean(F.log(T_q + 1e-8) + F.log(1. - T_prior + 1e-8))\n",
    "    \n",
    "    T_loss.forward()\n",
    "    T_loss.backward()\n",
    "    T_solver.update()\n",
    "    reset_grad()\n",
    "\n",
    "    # Print and plot every now and then\n",
    "    if it % 1000 == 0:\n",
    "        print('Step: {}, ELBO: {:.4}, T_loss: {:.4}'.format(it, -elbo.d, -T_loss.d))\n",
    "        \n",
    "        samples = P(z).d[:16]\n",
    "        show16(samples)"
   ]
  }
 ],
 "metadata": {
  "kernelspec": {
   "display_name": "Python 2",
   "language": "python",
   "name": "python2"
  },
  "language_info": {
   "codemirror_mode": {
    "name": "ipython",
    "version": 2.0
   },
   "file_extension": ".py",
   "mimetype": "text/x-python",
   "name": "python",
   "nbconvert_exporter": "python",
   "pygments_lexer": "ipython2",
   "version": "2.7.13"
  }
 },
 "nbformat": 4,
 "nbformat_minor": 0
}