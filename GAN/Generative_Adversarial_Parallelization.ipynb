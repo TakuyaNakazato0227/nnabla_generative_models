{
 "cells": [
  {
   "cell_type": "code",
   "execution_count": null,
   "metadata": {},
   "outputs": [],
   "source": [
    "import nnabla as nn\n",
    "\n",
    "import nnabla.functions as F\n",
    "import nnabla.parametric_functions as PF\n",
    "import nnabla.solvers as S\n",
    "from nnabla.monitor import tile_images\n",
    "\n",
    "import numpy as np\n",
    "import matplotlib.pyplot as plt\n",
    "import matplotlib.gridspec as gridspec\n",
    "\n",
    "import random\n",
    "\n",
    "%matplotlib inline\n",
    "\n",
    "from tensorflow.examples.tutorials.mnist import input_data"
   ]
  },
  {
   "cell_type": "code",
   "execution_count": null,
   "metadata": {},
   "outputs": [],
   "source": [
    "mnist = input_data.read_data_sets('../../MNIST_data', one_hot=True)\n",
    "mb_size = 64\n",
    "Z_dim = 100\n",
    "X_dim = mnist.train.images.shape[1]\n",
    "y_dim = mnist.train.labels.shape[1]\n",
    "lr = 1e-4\n",
    "K = 100"
   ]
  },
  {
   "cell_type": "code",
   "execution_count": null,
   "metadata": {
    "collapsed": true
   },
   "outputs": [],
   "source": [
    "def G1_(z, hidden=[128, 128]):\n",
    "    hs = []\n",
    "    with nn.parameter_scope(\"G1\"):  # Parameter scope can be nested\n",
    "        h = z\n",
    "        for hid, hsize in enumerate(hidden):\n",
    "            with nn.parameter_scope(\"affine{}\".format(hid + 1)):\n",
    "                h = F.relu(PF.affine(h, hsize))\n",
    "                hs.append(h)\n",
    "        with nn.parameter_scope(\"sigomid_layer\"):\n",
    "            X = F.sigmoid(PF.affine(h, X_dim))\n",
    "    return X"
   ]
  },
  {
   "cell_type": "code",
   "execution_count": null,
   "metadata": {
    "collapsed": true
   },
   "outputs": [],
   "source": [
    "def G2_(z, hidden=[128, 128]):\n",
    "    hs = []\n",
    "    with nn.parameter_scope(\"G2\"):  # Parameter scope can be nested\n",
    "        h = z\n",
    "        for hid, hsize in enumerate(hidden):\n",
    "            with nn.parameter_scope(\"affine{}\".format(hid + 1)):\n",
    "                h = F.relu(PF.affine(h, hsize))\n",
    "                hs.append(h)\n",
    "        with nn.parameter_scope(\"sigmoid_layer\"):\n",
    "            X = F.sigmoid(PF.affine(h, X_dim))\n",
    "    return X"
   ]
  },
  {
   "cell_type": "code",
   "execution_count": null,
   "metadata": {
    "collapsed": true
   },
   "outputs": [],
   "source": [
    "def D1_(X, hidden=[128, 128]):\n",
    "    hs = []\n",
    "    with nn.parameter_scope(\"D1\"):  # Parameter scope can be nested\n",
    "        h = X\n",
    "        for hid, hsize in enumerate(hidden):\n",
    "            with nn.parameter_scope(\"affine{}\".format(hid + 1)):\n",
    "                h = F.relu(PF.affine(h, hsize))\n",
    "                hs.append(h)\n",
    "        with nn.parameter_scope(\"classifier\"):\n",
    "            y = PF.affine(h, 1)\n",
    "    return y"
   ]
  },
  {
   "cell_type": "code",
   "execution_count": null,
   "metadata": {
    "collapsed": true
   },
   "outputs": [],
   "source": [
    "def D2_(X, hidden=[128, 128]):\n",
    "    hs = []\n",
    "    with nn.parameter_scope(\"D2\"):  # Parameter scope can be nested\n",
    "        h = X\n",
    "        for hid, hsize in enumerate(hidden):\n",
    "            with nn.parameter_scope(\"affine{}\".format(hid + 1)):\n",
    "                h = F.relu(PF.affine(h, hsize))\n",
    "                hs.append(h)\n",
    "        with nn.parameter_scope(\"classifier\"):\n",
    "            y = PF.affine(h, 1)\n",
    "    return y"
   ]
  },
  {
   "cell_type": "code",
   "execution_count": null,
   "metadata": {
    "collapsed": true
   },
   "outputs": [],
   "source": [
    "G1_solver = S.Adam(lr)\n",
    "with nn.parameter_scope(\"G1\"):\n",
    "    G1_solver.set_parameters(nn.get_parameters())\n",
    "    \n",
    "G2_solver = S.Adam(lr)\n",
    "with nn.parameter_scope(\"G2\"):\n",
    "    G2_solver.set_parameters(nn.get_parameters())\n",
    "    \n",
    "D1_solver = S.Adam(lr)\n",
    "with nn.parameter_scope(\"D1\"):\n",
    "    D1_solver.set_parameters(nn.get_parameters())\n",
    "\n",
    "D2_solver = S.Adam(lr)\n",
    "with nn.parameter_scope(\"D2\"):\n",
    "    D2_solver.set_parameters(nn.get_parameters())"
   ]
  },
  {
   "cell_type": "code",
   "execution_count": null,
   "metadata": {
    "collapsed": true
   },
   "outputs": [],
   "source": [
    "def reset_grad():\n",
    "    G1_solver.zero_grad()\n",
    "    G2_solver.zero_grad()\n",
    "    D1_solver.zero_grad()\n",
    "    D2_solver.zero_grad()"
   ]
  },
  {
   "cell_type": "code",
   "execution_count": null,
   "metadata": {
    "collapsed": true
   },
   "outputs": [],
   "source": [
    "D1 = {'model': D1_, 'solver': D1_solver}\n",
    "G1 = {'model': G1_, 'solver': G1_solver}\n",
    "D2 = {'model': D2_, 'solver': D2_solver}\n",
    "G2 = {'model': G2_, 'solver': G2_solver}"
   ]
  },
  {
   "cell_type": "code",
   "execution_count": null,
   "metadata": {
    "collapsed": true
   },
   "outputs": [],
   "source": [
    "GAN_pairs = [(D1, G1), (D2, G2)]"
   ]
  },
  {
   "cell_type": "code",
   "execution_count": null,
   "metadata": {
    "collapsed": true
   },
   "outputs": [],
   "source": [
    "def show16(samples):\n",
    "    fig = plt.figure(figsize=(4, 4))\n",
    "    gs = gridspec.GridSpec(4, 4)\n",
    "    gs.update(wspace=0.05, hspace=0.05)\n",
    "\n",
    "    for i, sample in enumerate(samples):\n",
    "        ax = plt.subplot(gs[i])\n",
    "        plt.axis('off')\n",
    "        ax.set_xticklabels([])\n",
    "        ax.set_yticklabels([])\n",
    "        ax.set_aspect('equal')\n",
    "        plt.imshow(sample.reshape(28, 28), cmap='Greys_r')\n",
    "\n",
    "    plt.show()"
   ]
  },
  {
   "cell_type": "code",
   "execution_count": null,
   "metadata": {},
   "outputs": [],
   "source": [
    "for it in range(1000000):\n",
    "    # Discriminator\n",
    "    z = nn.Variable.from_numpy_array(np.random.randn(mb_size, Z_dim))\n",
    "    X, _ = mnist.train.next_batch(mb_size)\n",
    "    X = nn.Variable.from_numpy_array(X)\n",
    "    \n",
    "    for D, G in GAN_pairs:\n",
    "        G_sample = G['model'](z)\n",
    "        D_real = D['model'](X)\n",
    "        D_fake = D['model'](G_sample)\n",
    "        \n",
    "        D_loss = - F.mean(F.log(D_real + 1e-8) + F.log(1 - D_fake + 1e-8))\n",
    "        D_loss.forward()\n",
    "        D_loss.backward()\n",
    "        D['solver'].update()\n",
    "\n",
    "        reset_grad()\n",
    "\n",
    "        # Generator Update\n",
    "        G_sample = G['model'](z)\n",
    "        D_fake = D['model'](G_sample)\n",
    "        G_loss = - F.mean(F.log(D_fake))\n",
    "\n",
    "        G_loss.forward()\n",
    "        G_loss.backward()\n",
    "        G['solver'].update()\n",
    "\n",
    "        reset_grad()\n",
    "        \n",
    "    if it != 0 and it % K == 0:\n",
    "        # Swap (D, G) pairs\n",
    "        new_D1, new_D2 = GAN_pairs[1][0], GAN_pairs[0][0]\n",
    "        GAN_pairs = [(new_D1, G1), (new_D2, G2)]\n",
    "    \n",
    "    # Generate and Show Samples \n",
    "    if it % 1000 == 0:\n",
    "        idx = np.random.randint(0, 10)\n",
    "        print('Step: {}, D_loss: {}, G_loss: {}'.format(it, D_loss.d, G_loss.d))\n",
    "        \n",
    "               # Pick G randomly\n",
    "        G_rand = random.choice([G1_, G2_])\n",
    "        samples = G_rand(z).d[:16]\n",
    "        show16(samples)"
   ]
  }
 ],
 "metadata": {
  "kernelspec": {
   "display_name": "Python 2",
   "language": "python",
   "name": "python2"
  },
  "language_info": {
   "codemirror_mode": {
    "name": "ipython",
    "version": 2.0
   },
   "file_extension": ".py",
   "mimetype": "text/x-python",
   "name": "python",
   "nbconvert_exporter": "python",
   "pygments_lexer": "ipython2",
   "version": "2.7.13"
  }
 },
 "nbformat": 4,
 "nbformat_minor": 0
}