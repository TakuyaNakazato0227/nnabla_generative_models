{
 "cells": [
  {
   "cell_type": "code",
   "execution_count": null,
   "metadata": {},
   "outputs": [],
   "source": [
    "import nnabla as nn\n",
    "\n",
    "import nnabla.functions as F\n",
    "import nnabla.parametric_functions as PF\n",
    "import nnabla.solvers as S\n",
    "from nnabla.monitor import tile_images\n",
    "\n",
    "import numpy as np\n",
    "import matplotlib.pyplot as plt\n",
    "import matplotlib.gridspec as gridspec\n",
    "\n",
    "%matplotlib inline\n",
    "\n",
    "from tensorflow.examples.tutorials.mnist import input_data"
   ]
  },
  {
   "cell_type": "code",
   "execution_count": null,
   "metadata": {},
   "outputs": [],
   "source": [
    "mnist = input_data.read_data_sets('../../MNIST_data', one_hot=True)\n",
    "mb_size = 64\n",
    "Z_dim = 100\n",
    "X_dim = mnist.train.images.shape[1]\n",
    "y_dim = mnist.train.labels.shape[1]\n",
    "lr = 1e-4\n",
    "lam1 = 1e-2\n",
    "lam2 = 1e-2"
   ]
  },
  {
   "cell_type": "code",
   "execution_count": null,
   "metadata": {
    "collapsed": true
   },
   "outputs": [],
   "source": [
    "def G(z, hidden=[128, 128]):\n",
    "    hs = []\n",
    "    with nn.parameter_scope(\"G\"):  # Parameter scope can be nested\n",
    "        h = z\n",
    "        for hid, hsize in enumerate(hidden):\n",
    "            with nn.parameter_scope(\"affine{}\".format(hid + 1)):\n",
    "                h = F.relu(PF.affine(h, hsize))\n",
    "                hs.append(h)\n",
    "        with nn.parameter_scope(\"last_layer\"):\n",
    "            X = F.sigmoid(PF.affine(h, X_dim))\n",
    "    return X"
   ]
  },
  {
   "cell_type": "code",
   "execution_count": null,
   "metadata": {
    "collapsed": true
   },
   "outputs": [],
   "source": [
    "def E(X, hidden=[128, 128]):\n",
    "    hs = []\n",
    "    with nn.parameter_scope(\"E\"):  # Parameter scope can be nested\n",
    "        h = X\n",
    "        for hid, hsize in enumerate(hidden):\n",
    "            with nn.parameter_scope(\"affine{}\".format(hid + 1)):\n",
    "                h = F.relu(PF.affine(h, hsize))\n",
    "                hs.append(h)\n",
    "        with nn.parameter_scope(\"last_layer\"):\n",
    "            z = PF.affine(h, Z_dim)\n",
    "    return z"
   ]
  },
  {
   "cell_type": "code",
   "execution_count": null,
   "metadata": {
    "collapsed": true
   },
   "outputs": [],
   "source": [
    "def D(X, hidden=[128, 128]):\n",
    "    hs = []\n",
    "    with nn.parameter_scope(\"D\"):  # Parameter scope can be nested\n",
    "        h = X\n",
    "        for hid, hsize in enumerate(hidden):\n",
    "            with nn.parameter_scope(\"affine{}\".format(hid + 1)):\n",
    "                h = F.relu(PF.affine(h, hsize))\n",
    "                hs.append(h)\n",
    "        with nn.parameter_scope(\"classifier\"):\n",
    "            y = F.sigmoid(PF.affine(h, 1))\n",
    "    return y"
   ]
  },
  {
   "cell_type": "code",
   "execution_count": null,
   "metadata": {
    "collapsed": true
   },
   "outputs": [],
   "source": [
    "G_solver = S.Adam(lr)\n",
    "with nn.parameter_scope(\"G\"):\n",
    "    G_solver.set_parameters(nn.get_parameters())\n",
    "    \n",
    "D_solver = S.Adam(lr)\n",
    "with nn.parameter_scope(\"D\"):\n",
    "    D_solver.set_parameters(nn.get_parameters())\n",
    "    \n",
    "E_solver = S.Adam(lr)\n",
    "with nn.parameter_scope(\"E\"):\n",
    "    E_solver.set_parameters(nn.get_parameters())"
   ]
  },
  {
   "cell_type": "code",
   "execution_count": null,
   "metadata": {
    "collapsed": true
   },
   "outputs": [],
   "source": [
    "def reset_grad():\n",
    "    G_solver.zero_grad()\n",
    "    D_solver.zero_grad()\n",
    "    E_solver.zero_grad()"
   ]
  },
  {
   "cell_type": "code",
   "execution_count": null,
   "metadata": {
    "collapsed": true
   },
   "outputs": [],
   "source": [
    "def sample_X(size, with_y=False):\n",
    "    X, y = mnist.train.next_batch(size)\n",
    "    X = nn.Variable.from_numpy_array(X)\n",
    "    \n",
    "    if with_y:\n",
    "        y = np.argmax(y, axis=1).astype(np.int)\n",
    "        y = nn.Variable.from_numpy_array(y)\n",
    "        return X, y\n",
    "    else:\n",
    "        return X"
   ]
  },
  {
   "cell_type": "code",
   "execution_count": null,
   "metadata": {
    "collapsed": true
   },
   "outputs": [],
   "source": [
    "def show16(samples):\n",
    "    fig = plt.figure(figsize=(4, 4))\n",
    "    gs = gridspec.GridSpec(4, 4)\n",
    "    gs.update(wspace=0.05, hspace=0.05)\n",
    "\n",
    "    for i, sample in enumerate(samples):\n",
    "        ax = plt.subplot(gs[i])\n",
    "        plt.axis('off')\n",
    "        ax.set_xticklabels([])\n",
    "        ax.set_yticklabels([])\n",
    "        ax.set_aspect('equal')\n",
    "        plt.imshow(sample.reshape(28, 28), cmap='Greys_r')\n",
    "\n",
    "    plt.show()"
   ]
  },
  {
   "cell_type": "code",
   "execution_count": null,
   "metadata": {},
   "outputs": [],
   "source": [
    "for it in range(1000000):\n",
    "    # Discriminator Update\n",
    "    z = nn.Variable.from_numpy_array(np.random.randn(mb_size, Z_dim))\n",
    "    X = sample_X(mb_size)\n",
    "\n",
    "    G_sample = G(z)\n",
    "    D_real = D(X)\n",
    "    D_fake = D(G_sample)\n",
    "\n",
    "    D_loss = -F.mean(F.log(D_real + 1e-8) + F.log(1 - D_fake + 1e-8))\n",
    "\n",
    "    D_loss.forward()\n",
    "    D_loss.backward() \n",
    "    D_solver.update()\n",
    "\n",
    "    reset_grad()\n",
    "\n",
    "    # Generator Update\n",
    "    z = nn.Variable.from_numpy_array(np.random.randn(mb_size, Z_dim))\n",
    "    X = sample_X(mb_size)\n",
    "    \n",
    "    G_sample = G(z)\n",
    "    G_sample_reg = G(E(X))\n",
    "    D_fake = D(G_sample)\n",
    "    D_reg = D(G_sample_reg)\n",
    "\n",
    "\n",
    "    mse = F.sum((X - G_sample_reg)**2, axis=1, keepdims=True)\n",
    "    reg = F.mean(lam1 * mse + lam2 * F.log(D_reg + 1e-8))\n",
    "    G_loss = -F.mean(F.log(D_fake + 1e-8)) + reg\n",
    "\n",
    "    G_loss.forward()\n",
    "    G_loss.backward()\n",
    "    G_solver.update()\n",
    "\n",
    "    reset_grad()\n",
    "    \n",
    "    # Encoder Update\n",
    "    z = nn.Variable.from_numpy_array(np.random.randn(mb_size, Z_dim))\n",
    "    X = sample_X(mb_size)\n",
    "    \n",
    "    G_sample_reg = G(E(X))\n",
    "    D_reg = D(G_sample_reg)\n",
    "    \n",
    "    mse = F.sum((X - G_sample_reg)**2, axis=1, keepdims=True)\n",
    "    E_loss = F.mean(lam1 * mse + lam2 * F.log(D_reg + 1e-8))\n",
    "    \n",
    "    E_loss.forward()\n",
    "    E_loss.backward()\n",
    "    E_solver.update()\n",
    "\n",
    "    reset_grad()\n",
    "    \n",
    "    # Generate and Show Samples \n",
    "    if it % 1000 == 0:\n",
    "        idx = np.random.randint(0, 10)\n",
    "        print('Step: {}, D_loss: {}, E_loss: {}, G_loss: {}'.format(it, D_loss.d, E_loss.d, G_loss.d))\n",
    "        \n",
    "        samples = G(z).d[:16]\n",
    "        show16(samples)"
   ]
  }
 ],
 "metadata": {
  "kernelspec": {
   "display_name": "Python 2",
   "language": "python",
   "name": "python2"
  },
  "language_info": {
   "codemirror_mode": {
    "name": "ipython",
    "version": 2
   },
   "file_extension": ".py",
   "mimetype": "text/x-python",
   "name": "python",
   "nbconvert_exporter": "python",
   "pygments_lexer": "ipython2",
   "version": "2.7.13"
  }
 },
 "nbformat": 4,
 "nbformat_minor": 2
}
