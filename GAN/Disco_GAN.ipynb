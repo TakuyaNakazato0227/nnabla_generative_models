{
 "cells": [
  {
   "cell_type": "code",
   "execution_count": null,
   "metadata": {},
   "outputs": [],
   "source": [
    "import nnabla as nn\n",
    "\n",
    "import nnabla.functions as F\n",
    "import nnabla.parametric_functions as PF\n",
    "import nnabla.solvers as S\n",
    "from nnabla.monitor import tile_images\n",
    "\n",
    "import numpy as np\n",
    "import matplotlib.pyplot as plt\n",
    "import matplotlib.gridspec as gridspec\n",
    "\n",
    "import scipy.ndimage.interpolation\n",
    "\n",
    "%matplotlib inline\n",
    "\n",
    "from tensorflow.examples.tutorials.mnist import input_data"
   ]
  },
  {
   "cell_type": "code",
   "execution_count": null,
   "metadata": {},
   "outputs": [],
   "source": [
    "mnist = input_data.read_data_sets('../../MNIST_data', one_hot=True)\n",
    "mb_size = 64\n",
    "Z_dim = 100\n",
    "X_dim = mnist.train.images.shape[1]\n",
    "y_dim = mnist.train.labels.shape[1]\n",
    "lr = 1e-4"
   ]
  },
  {
   "cell_type": "code",
   "execution_count": null,
   "metadata": {
    "collapsed": true
   },
   "outputs": [],
   "source": [
    "def G_AB(X, hidden=[128, 128]):\n",
    "    hs = []\n",
    "    with nn.parameter_scope(\"G_AB\"):  # Parameter scope can be nested\n",
    "        h = X\n",
    "        for hid, hsize in enumerate(hidden):\n",
    "            with nn.parameter_scope(\"affine{}\".format(hid + 1)):\n",
    "                h = F.relu(PF.affine(h, hsize))\n",
    "                hs.append(h)\n",
    "        with nn.parameter_scope(\"last_layer\"):\n",
    "            X = F.sigmoid(PF.affine(h, X_dim))\n",
    "    return X"
   ]
  },
  {
   "cell_type": "code",
   "execution_count": null,
   "metadata": {
    "collapsed": true
   },
   "outputs": [],
   "source": [
    "def G_BA(X, hidden=[128, 128]):\n",
    "    hs = []\n",
    "    with nn.parameter_scope(\"G_BA\"):  # Parameter scope can be nested\n",
    "        h = X\n",
    "        for hid, hsize in enumerate(hidden):\n",
    "            with nn.parameter_scope(\"affine{}\".format(hid + 1)):\n",
    "                h = F.relu(PF.affine(h, hsize))\n",
    "                hs.append(h)\n",
    "        with nn.parameter_scope(\"last_layer\"):\n",
    "            X = F.sigmoid(PF.affine(h, X_dim))\n",
    "    return X"
   ]
  },
  {
   "cell_type": "code",
   "execution_count": null,
   "metadata": {
    "collapsed": true
   },
   "outputs": [],
   "source": [
    "def D_A(X, hidden=[128, 128]):\n",
    "    hs = []\n",
    "    with nn.parameter_scope(\"D_A\"):  # Parameter scope can be nested\n",
    "        h = X\n",
    "        for hid, hsize in enumerate(hidden):\n",
    "            with nn.parameter_scope(\"affine{}\".format(hid + 1)):\n",
    "                h = F.relu(PF.affine(h, hsize))\n",
    "                hs.append(h)\n",
    "        with nn.parameter_scope(\"classifier\"):\n",
    "            y = PF.affine(h, 1)\n",
    "    return y"
   ]
  },
  {
   "cell_type": "code",
   "execution_count": null,
   "metadata": {
    "collapsed": true
   },
   "outputs": [],
   "source": [
    "def D_B(X, hidden=[128, 128]):\n",
    "    hs = []\n",
    "    with nn.parameter_scope(\"D_B\"):  # Parameter scope can be nested\n",
    "        h = X\n",
    "        for hid, hsize in enumerate(hidden):\n",
    "            with nn.parameter_scope(\"affine{}\".format(hid + 1)):\n",
    "                h = F.relu(PF.affine(h, hsize))\n",
    "                hs.append(h)\n",
    "        with nn.parameter_scope(\"classifier\"):\n",
    "            y = PF.affine(h, 1)\n",
    "    return y"
   ]
  },
  {
   "cell_type": "code",
   "execution_count": null,
   "metadata": {
    "collapsed": true
   },
   "outputs": [],
   "source": [
    "G_solver = S.Adam(lr)\n",
    "with nn.parameter_scope(\"G_AB\"), nn.parameter_scope(\"G_BA\"):\n",
    "    G_solver.set_parameters(nn.get_parameters())\n",
    "    \n",
    "D_solver = S.Adam(lr)\n",
    "with nn.parameter_scope(\"D_AB\"), nn.parameter_scope(\"D_BA\"):\n",
    "    D_solver.set_parameters(nn.get_parameters())"
   ]
  },
  {
   "cell_type": "code",
   "execution_count": null,
   "metadata": {
    "collapsed": true
   },
   "outputs": [],
   "source": [
    "def reset_grad():\n",
    "    G_solver.zero_grad()\n",
    "    D_solver.zero_grad()"
   ]
  },
  {
   "cell_type": "code",
   "execution_count": null,
   "metadata": {
    "collapsed": true
   },
   "outputs": [],
   "source": [
    "# Gather training data: domain1 <- real MNIST img, domain2 <- rotated MNIST img\n",
    "X_train = mnist.train.images\n",
    "half = int(X_train.shape[0] / 2)\n",
    "# Real image\n",
    "X_train1 = X_train[:half]\n",
    "# Rotated image\n",
    "X_train2 = X_train[half:].reshape(-1, 28, 28)\n",
    "X_train2 = scipy.ndimage.interpolation.rotate(X_train2, 90, axes=(1, 2))\n",
    "X_train2 = X_train2.reshape(-1, 28*28)\n",
    "# Cleanup\n",
    "del X_train"
   ]
  },
  {
   "cell_type": "code",
   "execution_count": null,
   "metadata": {
    "collapsed": true
   },
   "outputs": [],
   "source": [
    "def sample_X(X, size):\n",
    "    start_idx = np.random.randint(0, X.shape[0]-size)\n",
    "    return nn.Variable.from_numpy_array(X[start_idx:start_idx+size])"
   ]
  },
  {
   "cell_type": "code",
   "execution_count": null,
   "metadata": {
    "collapsed": true
   },
   "outputs": [],
   "source": [
    "def show16(samples):\n",
    "    fig = plt.figure(figsize=(4, 4))\n",
    "    gs = gridspec.GridSpec(4, 4)\n",
    "    gs.update(wspace=0.05, hspace=0.05)\n",
    "\n",
    "    for i, sample in enumerate(samples):\n",
    "        ax = plt.subplot(gs[i])\n",
    "        plt.axis('off')\n",
    "        ax.set_xticklabels([])\n",
    "        ax.set_yticklabels([])\n",
    "        ax.set_aspect('equal')\n",
    "        plt.imshow(sample.reshape(28, 28), cmap='Greys_r')\n",
    "\n",
    "    plt.show()"
   ]
  },
  {
   "cell_type": "code",
   "execution_count": null,
   "metadata": {},
   "outputs": [],
   "source": [
    "for it in range(1000000):\n",
    "    # Sample data from both domains\n",
    "    X_A = sample_X(X_train1, mb_size)\n",
    "    X_B = sample_X(X_train2, mb_size)\n",
    "\n",
    "    # Discriminator A\n",
    "    X_BA = G_BA(X_B)\n",
    "    D_A_real = D_A(X_A)\n",
    "    D_A_fake = D_A(X_BA)\n",
    "\n",
    "    L_D_A = - F.mean(F.log(D_A_real + 1e-8) + F.log(1 - D_A_fake + 1e-8))\n",
    "\n",
    "    # Discriminator B\n",
    "    X_AB = G_AB(X_A)\n",
    "    D_B_real = D_B(X_B)\n",
    "    D_B_fake = D_B(X_AB)\n",
    "\n",
    "    L_D_B = - F.mean(F.log(D_B_real + 1e-8) + F.log(1 - D_B_fake + 1e-8))\n",
    "\n",
    "    # Total discriminator loss\n",
    "    D_loss = L_D_A + L_D_B\n",
    "    \n",
    "    D_loss.forward()\n",
    "    D_loss.backward()\n",
    "    D_solver.update()\n",
    "\n",
    "    reset_grad()\n",
    "\n",
    "    # Generator Update\n",
    "    \n",
    "    # Generator AB\n",
    "    X_AB = G_AB(X_A)\n",
    "    D_B_fake = D_B(X_AB)\n",
    "    X_ABA = G_BA(X_AB)\n",
    "\n",
    "    L_adv_B = - F.mean(F.log(D_B_fake + 1e-8))\n",
    "    L_recon_A = F.mean(F.sum((X_A - X_ABA)**2, axis=1))\n",
    "    L_G_AB = L_adv_B + L_recon_A\n",
    "\n",
    "    # Generator BA\n",
    "    X_BA = G_BA(X_B)\n",
    "    D_A_fake = D_A(X_BA)\n",
    "    X_BAB = G_AB(X_BA)\n",
    "\n",
    "    L_adv_A = - F.mean(F.log(D_A_fake))\n",
    "    L_recon_B = F.mean(F.sum((X_B - X_BAB)**2, axis=1))\n",
    "    L_G_BA = L_adv_A + L_recon_B\n",
    "\n",
    "    # Total generator loss\n",
    "    G_loss = L_G_AB + L_G_BA\n",
    "\n",
    "    G_loss.forward()\n",
    "    G_loss.backward()\n",
    "    G_solver.update()\n",
    "\n",
    "    reset_grad()\n",
    "    \n",
    "    \n",
    "    # Generate and Show Samples \n",
    "    if it % 1000 == 0:\n",
    "        print('Step: {}, D_loss: {}, G_loss: {}'.format(it, D_loss.d, G_loss.d))\n",
    "        \n",
    "        input_A = sample_X(X_train1, size=4)\n",
    "        input_B = sample_X(X_train2, size=4)\n",
    "\n",
    "        samples_A = G_BA(input_B).d\n",
    "        samples_B = G_AB(input_A).d\n",
    "\n",
    "        input_A = input_A.d\n",
    "        input_B = input_B.d\n",
    "        \n",
    "        # The resulting image sample would be in 4 rows:\n",
    "        # row 1: real data from domain A, row 2 is its domain B translation\n",
    "        # row 3: real data from domain B, row 4 is its domain A translation\n",
    "        samples = np.vstack([input_A, samples_B, input_B, samples_A])        \n",
    "        show16(samples)"
   ]
  }
 ],
 "metadata": {
  "kernelspec": {
   "display_name": "Python 2",
   "language": "python",
   "name": "python2"
  },
  "language_info": {
   "codemirror_mode": {
    "name": "ipython",
    "version": 2.0
   },
   "file_extension": ".py",
   "mimetype": "text/x-python",
   "name": "python",
   "nbconvert_exporter": "python",
   "pygments_lexer": "ipython2",
   "version": "2.7.13"
  }
 },
 "nbformat": 4,
 "nbformat_minor": 0
}